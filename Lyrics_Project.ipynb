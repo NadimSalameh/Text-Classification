{
 "cells": [
  {
   "cell_type": "code",
   "execution_count": 1,
   "id": "91850b03",
   "metadata": {},
   "outputs": [],
   "source": [
    "import pandas as pd\n",
    "import numpy as np "
   ]
  },
  {
   "cell_type": "code",
   "execution_count": 2,
   "id": "54b063f7",
   "metadata": {},
   "outputs": [],
   "source": [
    "data = pd.read_csv('Data_Project4_Lyrics')"
   ]
  },
  {
   "cell_type": "code",
   "execution_count": 3,
   "id": "0cb03af6",
   "metadata": {},
   "outputs": [],
   "source": [
    "data.drop('Unnamed: 0', axis=1, inplace=True)"
   ]
  },
  {
   "cell_type": "code",
   "execution_count": 4,
   "id": "4ca97918",
   "metadata": {},
   "outputs": [
    {
     "data": {
      "text/html": [
       "<div>\n",
       "<style scoped>\n",
       "    .dataframe tbody tr th:only-of-type {\n",
       "        vertical-align: middle;\n",
       "    }\n",
       "\n",
       "    .dataframe tbody tr th {\n",
       "        vertical-align: top;\n",
       "    }\n",
       "\n",
       "    .dataframe thead th {\n",
       "        text-align: right;\n",
       "    }\n",
       "</style>\n",
       "<table border=\"1\" class=\"dataframe\">\n",
       "  <thead>\n",
       "    <tr style=\"text-align: right;\">\n",
       "      <th></th>\n",
       "      <th>Lyrics</th>\n",
       "      <th>Artist</th>\n",
       "    </tr>\n",
       "  </thead>\n",
       "  <tbody>\n",
       "    <tr>\n",
       "      <th>0</th>\n",
       "      <td>Son  you know why you the greatest alive   Why...</td>\n",
       "      <td>Eminem</td>\n",
       "    </tr>\n",
       "    <tr>\n",
       "      <th>1</th>\n",
       "      <td>Nigga  I wear fur coats in the summer  nigga  ...</td>\n",
       "      <td>Eminem</td>\n",
       "    </tr>\n",
       "    <tr>\n",
       "      <th>2</th>\n",
       "      <td>Yeah  I was born a misfit  grew up ten miles f...</td>\n",
       "      <td>Eminem</td>\n",
       "    </tr>\n",
       "    <tr>\n",
       "      <th>3</th>\n",
       "      <td>Yeah huh  (hip hop hip hop hip hop)  Turn the ...</td>\n",
       "      <td>Eminem</td>\n",
       "    </tr>\n",
       "    <tr>\n",
       "      <th>4</th>\n",
       "      <td>You will not be able to stay home brotha  You ...</td>\n",
       "      <td>Eminem</td>\n",
       "    </tr>\n",
       "    <tr>\n",
       "      <th>...</th>\n",
       "      <td>...</td>\n",
       "      <td>...</td>\n",
       "    </tr>\n",
       "    <tr>\n",
       "      <th>995</th>\n",
       "      <td>Baby slow down  just here me out  There s some...</td>\n",
       "      <td>Rihanna</td>\n",
       "    </tr>\n",
       "    <tr>\n",
       "      <th>996</th>\n",
       "      <td>Oh  oh  oh  oh  oh oh Oh  oh  oh  oh yeah  Lis...</td>\n",
       "      <td>Rihanna</td>\n",
       "    </tr>\n",
       "    <tr>\n",
       "      <th>997</th>\n",
       "      <td>Boy let me  let me Why don t you let me  let m...</td>\n",
       "      <td>Rihanna</td>\n",
       "    </tr>\n",
       "    <tr>\n",
       "      <th>998</th>\n",
       "      <td>The galdem rush to feel the ill touch Galdem b...</td>\n",
       "      <td>Rihanna</td>\n",
       "    </tr>\n",
       "    <tr>\n",
       "      <th>999</th>\n",
       "      <td>Gotta keep it on the down low I ll never let m...</td>\n",
       "      <td>Rihanna</td>\n",
       "    </tr>\n",
       "  </tbody>\n",
       "</table>\n",
       "<p>1000 rows × 2 columns</p>\n",
       "</div>"
      ],
      "text/plain": [
       "                                                Lyrics   Artist\n",
       "0    Son  you know why you the greatest alive   Why...   Eminem\n",
       "1    Nigga  I wear fur coats in the summer  nigga  ...   Eminem\n",
       "2    Yeah  I was born a misfit  grew up ten miles f...   Eminem\n",
       "3    Yeah huh  (hip hop hip hop hip hop)  Turn the ...   Eminem\n",
       "4    You will not be able to stay home brotha  You ...   Eminem\n",
       "..                                                 ...      ...\n",
       "995  Baby slow down  just here me out  There s some...  Rihanna\n",
       "996  Oh  oh  oh  oh  oh oh Oh  oh  oh  oh yeah  Lis...  Rihanna\n",
       "997  Boy let me  let me Why don t you let me  let m...  Rihanna\n",
       "998  The galdem rush to feel the ill touch Galdem b...  Rihanna\n",
       "999  Gotta keep it on the down low I ll never let m...  Rihanna\n",
       "\n",
       "[1000 rows x 2 columns]"
      ]
     },
     "execution_count": 4,
     "metadata": {},
     "output_type": "execute_result"
    }
   ],
   "source": [
    "data"
   ]
  },
  {
   "cell_type": "markdown",
   "id": "0afa0189",
   "metadata": {},
   "source": [
    "* Clean the text"
   ]
  },
  {
   "cell_type": "code",
   "execution_count": 115,
   "id": "c633274e",
   "metadata": {},
   "outputs": [],
   "source": [
    "data[\"Lyrics\"] = data[\"Lyrics\"].replace(r'[a-z][0-9]', '', regex=True)\n",
    "data[\"Lyrics\"] = data[\"Lyrics\"].replace(r'[(0-9)]', '', regex=True)\n",
    "data[\"Lyrics\"] = data[\"Lyrics\"].replace(r'[{0-9}]', '', regex=True)"
   ]
  },
  {
   "cell_type": "code",
   "execution_count": 141,
   "id": "df6a6f01",
   "metadata": {},
   "outputs": [
    {
     "data": {
      "text/plain": [
       "'Oh yeah  yeah  yeah  Oh yeah  yeah  yeah  Yeah  look    I don t know how to talk to you  I don t know how to ask you if you re okay  My friends always feel the need to tell me things  Seems like they re just happier than us these days  Yeah  these days I don t know how to talk to you  I don t know how to be there when you need me  It feels like the only time you see me  Is when you turn your head to the side and look at me differently    Yeah  and last night I think I lost my patience  Last night I got high as the expectations  Last night  I came to a realization  And I hope you can take it  I hope you can take it    I m too good to you  I m way too good to you  You take my love for granted  I just don t understand it  No  I m too good to you  I m way too good to you  You take my love for granted  I just don t understand it    I don t know how to talk to you  I just know I found myself getting lost with you  Lately you just make me work too hard for you  Got me on flights overseas  and I still can t get across to you    And last night I think I lost my patience  Last night I got high as the expectations  Last night  I came to a realization  And I hope you can take it  I hope you can take it    I m too good to you  I m way too good to you  You take my love for granted  I just don t understand it  No  I m too good to you  I m way too good to you  You take my love for granted  I just don t understand it    Years go by too fast  I can t keep track  How long did we last   I feel bad for asking  It can t end like this  We gotta take time with this  Cock up yuh bumper  sit down pon it  Let me see if this is something I can fix  You got somebody other than me  Don t play the victim when you re with me  Free time is costing me more than it seems  Sacrificing things  And I wanna tell you my intentions  I wanna do the things that I mention  I wanna benefit from the friendship  I wanna get the late night message from you  from you  I put my hands around you  Gotta get a handle on you  Gotta get a handle on the fact that    I m too good to you  I m way too good to you  You take my love for granted  I just don t understand it  No  I m too good to you  I m way too good to you  You take my love for granted  I just don t understand it    Gyal a you mi waan  Pay fi yuh visa meck yo fly out regular  Baby  cock up yuh bumper  sit down pon it  Gyal yo pum pum good and yuh fit  Mi wi give you everything weh deh in my wallet  And in my pocket  Cock up yuh bumper  sit down pon it  Gyal yo pum pum good and yuh fit  Mi wi give you everything weh deh in my wallet  And in my pocket'"
      ]
     },
     "execution_count": 141,
     "metadata": {},
     "output_type": "execute_result"
    }
   ],
   "source": [
    "data['Lyrics'][651]"
   ]
  },
  {
   "cell_type": "code",
   "execution_count": 9,
   "id": "cd424ec8",
   "metadata": {},
   "outputs": [],
   "source": [
    "import nltk"
   ]
  },
  {
   "cell_type": "code",
   "execution_count": 10,
   "id": "40ad5b19",
   "metadata": {},
   "outputs": [],
   "source": [
    "from nltk.tokenize import TreebankWordTokenizer\n",
    "from nltk.stem import WordNetLemmatizer"
   ]
  },
  {
   "cell_type": "code",
   "execution_count": 11,
   "id": "b42a10fa",
   "metadata": {},
   "outputs": [
    {
     "name": "stdout",
     "output_type": "stream",
     "text": [
      "['i', 'me', 'my', 'myself', 'we', 'our', 'ours', 'ourselves', 'you', \"you're\", \"you've\", \"you'll\", \"you'd\", 'your', 'yours', 'yourself', 'yourselves', 'he', 'him', 'his', 'himself', 'she', \"she's\", 'her', 'hers', 'herself', 'it', \"it's\", 'its', 'itself', 'they', 'them', 'their', 'theirs', 'themselves', 'what', 'which', 'who', 'whom', 'this', 'that', \"that'll\", 'these', 'those', 'am', 'is', 'are', 'was', 'were', 'be', 'been', 'being', 'have', 'has', 'had', 'having', 'do', 'does', 'did', 'doing', 'a', 'an', 'the', 'and', 'but', 'if', 'or', 'because', 'as', 'until', 'while', 'of', 'at', 'by', 'for', 'with', 'about', 'against', 'between', 'into', 'through', 'during', 'before', 'after', 'above', 'below', 'to', 'from', 'up', 'down', 'in', 'out', 'on', 'off', 'over', 'under', 'again', 'further', 'then', 'once', 'here', 'there', 'when', 'where', 'why', 'how', 'all', 'any', 'both', 'each', 'few', 'more', 'most', 'other', 'some', 'such', 'no', 'nor', 'not', 'only', 'own', 'same', 'so', 'than', 'too', 'very', 's', 't', 'can', 'will', 'just', 'don', \"don't\", 'should', \"should've\", 'now', 'd', 'll', 'm', 'o', 're', 've', 'y', 'ain', 'aren', \"aren't\", 'couldn', \"couldn't\", 'didn', \"didn't\", 'doesn', \"doesn't\", 'hadn', \"hadn't\", 'hasn', \"hasn't\", 'haven', \"haven't\", 'isn', \"isn't\", 'ma', 'mightn', \"mightn't\", 'mustn', \"mustn't\", 'needn', \"needn't\", 'shan', \"shan't\", 'shouldn', \"shouldn't\", 'wasn', \"wasn't\", 'weren', \"weren't\", 'won', \"won't\", 'wouldn', \"wouldn't\"]\n"
     ]
    }
   ],
   "source": [
    "from nltk.corpus import stopwords\n",
    "from sklearn.feature_extraction.text import TfidfVectorizer   \n",
    "\n",
    "STOPWORDS = stopwords.words('english')\n",
    "\n",
    "print(STOPWORDS)"
   ]
  },
  {
   "cell_type": "code",
   "execution_count": 12,
   "id": "79530b82",
   "metadata": {},
   "outputs": [
    {
     "name": "stderr",
     "output_type": "stream",
     "text": [
      "C:\\Users\\nadim\\anaconda3\\lib\\site-packages\\sklearn\\utils\\deprecation.py:87: FutureWarning: Function get_feature_names is deprecated; get_feature_names is deprecated in 1.0 and will be removed in 1.2. Please use get_feature_names_out instead.\n",
      "  warnings.warn(msg, category=FutureWarning)\n"
     ]
    },
    {
     "data": {
      "text/html": [
       "<div>\n",
       "<style scoped>\n",
       "    .dataframe tbody tr th:only-of-type {\n",
       "        vertical-align: middle;\n",
       "    }\n",
       "\n",
       "    .dataframe tbody tr th {\n",
       "        vertical-align: top;\n",
       "    }\n",
       "\n",
       "    .dataframe thead th {\n",
       "        text-align: right;\n",
       "    }\n",
       "</style>\n",
       "<table border=\"1\" class=\"dataframe\">\n",
       "  <thead>\n",
       "    <tr style=\"text-align: right;\">\n",
       "      <th></th>\n",
       "      <th>00</th>\n",
       "      <th>00 whassup</th>\n",
       "      <th>02</th>\n",
       "      <th>02 burn</th>\n",
       "      <th>03</th>\n",
       "      <th>03 went</th>\n",
       "      <th>10</th>\n",
       "      <th>10 gotta</th>\n",
       "      <th>10 like</th>\n",
       "      <th>10 million</th>\n",
       "      <th>...</th>\n",
       "      <th>zoo come</th>\n",
       "      <th>zoo everybody</th>\n",
       "      <th>zoom</th>\n",
       "      <th>zoom headed</th>\n",
       "      <th>zy</th>\n",
       "      <th>zy latex</th>\n",
       "      <th>zzt</th>\n",
       "      <th>zzt 2001</th>\n",
       "      <th>zzzt</th>\n",
       "      <th>zzzt zzt</th>\n",
       "    </tr>\n",
       "    <tr>\n",
       "      <th>Artist</th>\n",
       "      <th></th>\n",
       "      <th></th>\n",
       "      <th></th>\n",
       "      <th></th>\n",
       "      <th></th>\n",
       "      <th></th>\n",
       "      <th></th>\n",
       "      <th></th>\n",
       "      <th></th>\n",
       "      <th></th>\n",
       "      <th></th>\n",
       "      <th></th>\n",
       "      <th></th>\n",
       "      <th></th>\n",
       "      <th></th>\n",
       "      <th></th>\n",
       "      <th></th>\n",
       "      <th></th>\n",
       "      <th></th>\n",
       "      <th></th>\n",
       "      <th></th>\n",
       "    </tr>\n",
       "  </thead>\n",
       "  <tbody>\n",
       "    <tr>\n",
       "      <th>Eminem</th>\n",
       "      <td>0.0</td>\n",
       "      <td>0.0</td>\n",
       "      <td>0.0</td>\n",
       "      <td>0.0</td>\n",
       "      <td>0.0</td>\n",
       "      <td>0.0</td>\n",
       "      <td>0.000000</td>\n",
       "      <td>0.0</td>\n",
       "      <td>0.0</td>\n",
       "      <td>0.0</td>\n",
       "      <td>...</td>\n",
       "      <td>0.0</td>\n",
       "      <td>0.0</td>\n",
       "      <td>0.0</td>\n",
       "      <td>0.0</td>\n",
       "      <td>0.0</td>\n",
       "      <td>0.0</td>\n",
       "      <td>0.0</td>\n",
       "      <td>0.0</td>\n",
       "      <td>0.0</td>\n",
       "      <td>0.0</td>\n",
       "    </tr>\n",
       "    <tr>\n",
       "      <th>Eminem</th>\n",
       "      <td>0.0</td>\n",
       "      <td>0.0</td>\n",
       "      <td>0.0</td>\n",
       "      <td>0.0</td>\n",
       "      <td>0.0</td>\n",
       "      <td>0.0</td>\n",
       "      <td>0.000000</td>\n",
       "      <td>0.0</td>\n",
       "      <td>0.0</td>\n",
       "      <td>0.0</td>\n",
       "      <td>...</td>\n",
       "      <td>0.0</td>\n",
       "      <td>0.0</td>\n",
       "      <td>0.0</td>\n",
       "      <td>0.0</td>\n",
       "      <td>0.0</td>\n",
       "      <td>0.0</td>\n",
       "      <td>0.0</td>\n",
       "      <td>0.0</td>\n",
       "      <td>0.0</td>\n",
       "      <td>0.0</td>\n",
       "    </tr>\n",
       "    <tr>\n",
       "      <th>Eminem</th>\n",
       "      <td>0.0</td>\n",
       "      <td>0.0</td>\n",
       "      <td>0.0</td>\n",
       "      <td>0.0</td>\n",
       "      <td>0.0</td>\n",
       "      <td>0.0</td>\n",
       "      <td>0.000000</td>\n",
       "      <td>0.0</td>\n",
       "      <td>0.0</td>\n",
       "      <td>0.0</td>\n",
       "      <td>...</td>\n",
       "      <td>0.0</td>\n",
       "      <td>0.0</td>\n",
       "      <td>0.0</td>\n",
       "      <td>0.0</td>\n",
       "      <td>0.0</td>\n",
       "      <td>0.0</td>\n",
       "      <td>0.0</td>\n",
       "      <td>0.0</td>\n",
       "      <td>0.0</td>\n",
       "      <td>0.0</td>\n",
       "    </tr>\n",
       "    <tr>\n",
       "      <th>Eminem</th>\n",
       "      <td>0.0</td>\n",
       "      <td>0.0</td>\n",
       "      <td>0.0</td>\n",
       "      <td>0.0</td>\n",
       "      <td>0.0</td>\n",
       "      <td>0.0</td>\n",
       "      <td>0.017492</td>\n",
       "      <td>0.0</td>\n",
       "      <td>0.0</td>\n",
       "      <td>0.0</td>\n",
       "      <td>...</td>\n",
       "      <td>0.0</td>\n",
       "      <td>0.0</td>\n",
       "      <td>0.0</td>\n",
       "      <td>0.0</td>\n",
       "      <td>0.0</td>\n",
       "      <td>0.0</td>\n",
       "      <td>0.0</td>\n",
       "      <td>0.0</td>\n",
       "      <td>0.0</td>\n",
       "      <td>0.0</td>\n",
       "    </tr>\n",
       "    <tr>\n",
       "      <th>Eminem</th>\n",
       "      <td>0.0</td>\n",
       "      <td>0.0</td>\n",
       "      <td>0.0</td>\n",
       "      <td>0.0</td>\n",
       "      <td>0.0</td>\n",
       "      <td>0.0</td>\n",
       "      <td>0.000000</td>\n",
       "      <td>0.0</td>\n",
       "      <td>0.0</td>\n",
       "      <td>0.0</td>\n",
       "      <td>...</td>\n",
       "      <td>0.0</td>\n",
       "      <td>0.0</td>\n",
       "      <td>0.0</td>\n",
       "      <td>0.0</td>\n",
       "      <td>0.0</td>\n",
       "      <td>0.0</td>\n",
       "      <td>0.0</td>\n",
       "      <td>0.0</td>\n",
       "      <td>0.0</td>\n",
       "      <td>0.0</td>\n",
       "    </tr>\n",
       "    <tr>\n",
       "      <th>...</th>\n",
       "      <td>...</td>\n",
       "      <td>...</td>\n",
       "      <td>...</td>\n",
       "      <td>...</td>\n",
       "      <td>...</td>\n",
       "      <td>...</td>\n",
       "      <td>...</td>\n",
       "      <td>...</td>\n",
       "      <td>...</td>\n",
       "      <td>...</td>\n",
       "      <td>...</td>\n",
       "      <td>...</td>\n",
       "      <td>...</td>\n",
       "      <td>...</td>\n",
       "      <td>...</td>\n",
       "      <td>...</td>\n",
       "      <td>...</td>\n",
       "      <td>...</td>\n",
       "      <td>...</td>\n",
       "      <td>...</td>\n",
       "      <td>...</td>\n",
       "    </tr>\n",
       "    <tr>\n",
       "      <th>Rihanna</th>\n",
       "      <td>0.0</td>\n",
       "      <td>0.0</td>\n",
       "      <td>0.0</td>\n",
       "      <td>0.0</td>\n",
       "      <td>0.0</td>\n",
       "      <td>0.0</td>\n",
       "      <td>0.000000</td>\n",
       "      <td>0.0</td>\n",
       "      <td>0.0</td>\n",
       "      <td>0.0</td>\n",
       "      <td>...</td>\n",
       "      <td>0.0</td>\n",
       "      <td>0.0</td>\n",
       "      <td>0.0</td>\n",
       "      <td>0.0</td>\n",
       "      <td>0.0</td>\n",
       "      <td>0.0</td>\n",
       "      <td>0.0</td>\n",
       "      <td>0.0</td>\n",
       "      <td>0.0</td>\n",
       "      <td>0.0</td>\n",
       "    </tr>\n",
       "    <tr>\n",
       "      <th>Rihanna</th>\n",
       "      <td>0.0</td>\n",
       "      <td>0.0</td>\n",
       "      <td>0.0</td>\n",
       "      <td>0.0</td>\n",
       "      <td>0.0</td>\n",
       "      <td>0.0</td>\n",
       "      <td>0.000000</td>\n",
       "      <td>0.0</td>\n",
       "      <td>0.0</td>\n",
       "      <td>0.0</td>\n",
       "      <td>...</td>\n",
       "      <td>0.0</td>\n",
       "      <td>0.0</td>\n",
       "      <td>0.0</td>\n",
       "      <td>0.0</td>\n",
       "      <td>0.0</td>\n",
       "      <td>0.0</td>\n",
       "      <td>0.0</td>\n",
       "      <td>0.0</td>\n",
       "      <td>0.0</td>\n",
       "      <td>0.0</td>\n",
       "    </tr>\n",
       "    <tr>\n",
       "      <th>Rihanna</th>\n",
       "      <td>0.0</td>\n",
       "      <td>0.0</td>\n",
       "      <td>0.0</td>\n",
       "      <td>0.0</td>\n",
       "      <td>0.0</td>\n",
       "      <td>0.0</td>\n",
       "      <td>0.000000</td>\n",
       "      <td>0.0</td>\n",
       "      <td>0.0</td>\n",
       "      <td>0.0</td>\n",
       "      <td>...</td>\n",
       "      <td>0.0</td>\n",
       "      <td>0.0</td>\n",
       "      <td>0.0</td>\n",
       "      <td>0.0</td>\n",
       "      <td>0.0</td>\n",
       "      <td>0.0</td>\n",
       "      <td>0.0</td>\n",
       "      <td>0.0</td>\n",
       "      <td>0.0</td>\n",
       "      <td>0.0</td>\n",
       "    </tr>\n",
       "    <tr>\n",
       "      <th>Rihanna</th>\n",
       "      <td>0.0</td>\n",
       "      <td>0.0</td>\n",
       "      <td>0.0</td>\n",
       "      <td>0.0</td>\n",
       "      <td>0.0</td>\n",
       "      <td>0.0</td>\n",
       "      <td>0.000000</td>\n",
       "      <td>0.0</td>\n",
       "      <td>0.0</td>\n",
       "      <td>0.0</td>\n",
       "      <td>...</td>\n",
       "      <td>0.0</td>\n",
       "      <td>0.0</td>\n",
       "      <td>0.0</td>\n",
       "      <td>0.0</td>\n",
       "      <td>0.0</td>\n",
       "      <td>0.0</td>\n",
       "      <td>0.0</td>\n",
       "      <td>0.0</td>\n",
       "      <td>0.0</td>\n",
       "      <td>0.0</td>\n",
       "    </tr>\n",
       "    <tr>\n",
       "      <th>Rihanna</th>\n",
       "      <td>0.0</td>\n",
       "      <td>0.0</td>\n",
       "      <td>0.0</td>\n",
       "      <td>0.0</td>\n",
       "      <td>0.0</td>\n",
       "      <td>0.0</td>\n",
       "      <td>0.000000</td>\n",
       "      <td>0.0</td>\n",
       "      <td>0.0</td>\n",
       "      <td>0.0</td>\n",
       "      <td>...</td>\n",
       "      <td>0.0</td>\n",
       "      <td>0.0</td>\n",
       "      <td>0.0</td>\n",
       "      <td>0.0</td>\n",
       "      <td>0.0</td>\n",
       "      <td>0.0</td>\n",
       "      <td>0.0</td>\n",
       "      <td>0.0</td>\n",
       "      <td>0.0</td>\n",
       "      <td>0.0</td>\n",
       "    </tr>\n",
       "  </tbody>\n",
       "</table>\n",
       "<p>1000 rows × 87206 columns</p>\n",
       "</div>"
      ],
      "text/plain": [
       "          00  00 whassup   02  02 burn   03  03 went        10  10 gotta  \\\n",
       "Artist                                                                     \n",
       "Eminem   0.0         0.0  0.0      0.0  0.0      0.0  0.000000       0.0   \n",
       "Eminem   0.0         0.0  0.0      0.0  0.0      0.0  0.000000       0.0   \n",
       "Eminem   0.0         0.0  0.0      0.0  0.0      0.0  0.000000       0.0   \n",
       "Eminem   0.0         0.0  0.0      0.0  0.0      0.0  0.017492       0.0   \n",
       "Eminem   0.0         0.0  0.0      0.0  0.0      0.0  0.000000       0.0   \n",
       "...      ...         ...  ...      ...  ...      ...       ...       ...   \n",
       "Rihanna  0.0         0.0  0.0      0.0  0.0      0.0  0.000000       0.0   \n",
       "Rihanna  0.0         0.0  0.0      0.0  0.0      0.0  0.000000       0.0   \n",
       "Rihanna  0.0         0.0  0.0      0.0  0.0      0.0  0.000000       0.0   \n",
       "Rihanna  0.0         0.0  0.0      0.0  0.0      0.0  0.000000       0.0   \n",
       "Rihanna  0.0         0.0  0.0      0.0  0.0      0.0  0.000000       0.0   \n",
       "\n",
       "         10 like  10 million  ...  zoo come  zoo everybody  zoom  zoom headed  \\\n",
       "Artist                        ...                                               \n",
       "Eminem       0.0         0.0  ...       0.0            0.0   0.0          0.0   \n",
       "Eminem       0.0         0.0  ...       0.0            0.0   0.0          0.0   \n",
       "Eminem       0.0         0.0  ...       0.0            0.0   0.0          0.0   \n",
       "Eminem       0.0         0.0  ...       0.0            0.0   0.0          0.0   \n",
       "Eminem       0.0         0.0  ...       0.0            0.0   0.0          0.0   \n",
       "...          ...         ...  ...       ...            ...   ...          ...   \n",
       "Rihanna      0.0         0.0  ...       0.0            0.0   0.0          0.0   \n",
       "Rihanna      0.0         0.0  ...       0.0            0.0   0.0          0.0   \n",
       "Rihanna      0.0         0.0  ...       0.0            0.0   0.0          0.0   \n",
       "Rihanna      0.0         0.0  ...       0.0            0.0   0.0          0.0   \n",
       "Rihanna      0.0         0.0  ...       0.0            0.0   0.0          0.0   \n",
       "\n",
       "          zy  zy latex  zzt  zzt 2001  zzzt  zzzt zzt  \n",
       "Artist                                                 \n",
       "Eminem   0.0       0.0  0.0       0.0   0.0       0.0  \n",
       "Eminem   0.0       0.0  0.0       0.0   0.0       0.0  \n",
       "Eminem   0.0       0.0  0.0       0.0   0.0       0.0  \n",
       "Eminem   0.0       0.0  0.0       0.0   0.0       0.0  \n",
       "Eminem   0.0       0.0  0.0       0.0   0.0       0.0  \n",
       "...      ...       ...  ...       ...   ...       ...  \n",
       "Rihanna  0.0       0.0  0.0       0.0   0.0       0.0  \n",
       "Rihanna  0.0       0.0  0.0       0.0   0.0       0.0  \n",
       "Rihanna  0.0       0.0  0.0       0.0   0.0       0.0  \n",
       "Rihanna  0.0       0.0  0.0       0.0   0.0       0.0  \n",
       "Rihanna  0.0       0.0  0.0       0.0   0.0       0.0  \n",
       "\n",
       "[1000 rows x 87206 columns]"
      ]
     },
     "execution_count": 12,
     "metadata": {},
     "output_type": "execute_result"
    }
   ],
   "source": [
    "vectorizer = TfidfVectorizer(stop_words=STOPWORDS , ngram_range=(1,2)) # instanciation\n",
    "\n",
    "X= vectorizer.fit_transform(data['Lyrics'].values.astype('str'))#fit bag of words model on our corpus\n",
    "\n",
    "\n",
    "# for us to see the vectorized labeled data\n",
    "pd.DataFrame(X.todense(), columns=vectorizer.get_feature_names(), index=data['Artist'])"
   ]
  },
  {
   "cell_type": "code",
   "execution_count": null,
   "id": "f375c44a",
   "metadata": {},
   "outputs": [],
   "source": []
  },
  {
   "cell_type": "code",
   "execution_count": 13,
   "id": "8f878c6e",
   "metadata": {},
   "outputs": [],
   "source": [
    "#vectorizer.vocabulary_"
   ]
  },
  {
   "cell_type": "code",
   "execution_count": 14,
   "id": "7e005f56",
   "metadata": {},
   "outputs": [],
   "source": [
    "from sklearn.model_selection import train_test_split \n",
    "X = X.toarray()\n",
    "y = data['Artist']\n",
    "X_train, X_test, y_train, y_test = train_test_split(X, y, test_size=0.2, random_state=101)"
   ]
  },
  {
   "cell_type": "markdown",
   "id": "463674ba",
   "metadata": {},
   "source": [
    "* Use naive_bayes algorithm "
   ]
  },
  {
   "cell_type": "code",
   "execution_count": 15,
   "id": "fd25d8c7",
   "metadata": {},
   "outputs": [],
   "source": [
    "from sklearn.naive_bayes import MultinomialNB"
   ]
  },
  {
   "cell_type": "code",
   "execution_count": 16,
   "id": "2f90729f",
   "metadata": {},
   "outputs": [],
   "source": [
    "model = MultinomialNB()"
   ]
  },
  {
   "cell_type": "code",
   "execution_count": 17,
   "id": "2643e104",
   "metadata": {},
   "outputs": [
    {
     "data": {
      "text/plain": [
       "MultinomialNB()"
      ]
     },
     "execution_count": 17,
     "metadata": {},
     "output_type": "execute_result"
    }
   ],
   "source": [
    "model.fit(X_train,y_train)"
   ]
  },
  {
   "cell_type": "code",
   "execution_count": 18,
   "id": "adde51d0",
   "metadata": {},
   "outputs": [
    {
     "data": {
      "text/plain": [
       "0.985"
      ]
     },
     "execution_count": 18,
     "metadata": {},
     "output_type": "execute_result"
    }
   ],
   "source": [
    "model.score(X_train,y_train)"
   ]
  },
  {
   "cell_type": "code",
   "execution_count": 19,
   "id": "5ff3002e",
   "metadata": {},
   "outputs": [
    {
     "data": {
      "text/plain": [
       "0.945"
      ]
     },
     "execution_count": 19,
     "metadata": {},
     "output_type": "execute_result"
    }
   ],
   "source": [
    "model.score(X_test,y_test)"
   ]
  },
  {
   "cell_type": "code",
   "execution_count": 20,
   "id": "5beeb29d",
   "metadata": {},
   "outputs": [
    {
     "data": {
      "text/plain": [
       "array(['Eminem', 'Rihanna'], dtype='<U7')"
      ]
     },
     "execution_count": 20,
     "metadata": {},
     "output_type": "execute_result"
    }
   ],
   "source": [
    "model.classes_"
   ]
  },
  {
   "cell_type": "code",
   "execution_count": 21,
   "id": "e39afe04",
   "metadata": {},
   "outputs": [],
   "source": [
    "def Artist_Name(word):\n",
    "    return model.predict(vectorizer.transform([word]))"
   ]
  },
  {
   "cell_type": "code",
   "execution_count": 22,
   "id": "8589d7c9",
   "metadata": {},
   "outputs": [
    {
     "data": {
      "text/plain": [
       "array(['Rihanna'], dtype='<U7')"
      ]
     },
     "execution_count": 22,
     "metadata": {},
     "output_type": "execute_result"
    }
   ],
   "source": [
    "Artist_Name('ohhh ohhh')"
   ]
  },
  {
   "cell_type": "code",
   "execution_count": 23,
   "id": "31c4a60f",
   "metadata": {},
   "outputs": [
    {
     "data": {
      "text/plain": [
       "array([[0.38997606, 0.61002394]])"
      ]
     },
     "execution_count": 23,
     "metadata": {},
     "output_type": "execute_result"
    }
   ],
   "source": [
    "model.predict_proba(vectorizer.transform([\"ohh ohhh\"]))"
   ]
  },
  {
   "cell_type": "code",
   "execution_count": 24,
   "id": "35b60a7d",
   "metadata": {},
   "outputs": [
    {
     "data": {
      "text/plain": [
       "array([[0.67619711, 0.32380289]])"
      ]
     },
     "execution_count": 24,
     "metadata": {},
     "output_type": "execute_result"
    }
   ],
   "source": [
    "model.predict_proba(vectorizer.transform([\"kids\"]))"
   ]
  },
  {
   "cell_type": "code",
   "execution_count": 25,
   "id": "57b0a6c0",
   "metadata": {},
   "outputs": [
    {
     "data": {
      "text/plain": [
       "array([[0.6500563, 0.3499437]])"
      ]
     },
     "execution_count": 25,
     "metadata": {},
     "output_type": "execute_result"
    }
   ],
   "source": [
    "model.predict_proba(vectorizer.transform([\"ten cents are two  Skim through the music to give shit reviews  To get clicks  but bitch  you just lit the fuse  Don t get misconstrued  business as us   Shit list renewed so get shit to do  Or ge\"]))"
   ]
  },
  {
   "cell_type": "code",
   "execution_count": 26,
   "id": "cf47d9f7",
   "metadata": {},
   "outputs": [
    {
     "data": {
      "text/plain": [
       "array([[0.27540017, 0.72459983]])"
      ]
     },
     "execution_count": 26,
     "metadata": {},
     "output_type": "execute_result"
    }
   ],
   "source": [
    "model.predict_proba(vectorizer.transform([\" oh  oh  you  oh  oh  You  oh  oh  you\"]))"
   ]
  },
  {
   "cell_type": "code",
   "execution_count": 27,
   "id": "0a519bd1",
   "metadata": {},
   "outputs": [],
   "source": [
    "predictions =model.predict(X_test)"
   ]
  },
  {
   "cell_type": "code",
   "execution_count": 28,
   "id": "647e9fcb",
   "metadata": {},
   "outputs": [],
   "source": [
    "from sklearn.metrics import classification_report"
   ]
  },
  {
   "cell_type": "code",
   "execution_count": 29,
   "id": "2537d8a6",
   "metadata": {},
   "outputs": [
    {
     "name": "stdout",
     "output_type": "stream",
     "text": [
      "              precision    recall  f1-score   support\n",
      "\n",
      "      Eminem       0.92      0.97      0.95        99\n",
      "     Rihanna       0.97      0.92      0.94       101\n",
      "\n",
      "    accuracy                           0.94       200\n",
      "   macro avg       0.95      0.95      0.94       200\n",
      "weighted avg       0.95      0.94      0.94       200\n",
      "\n"
     ]
    }
   ],
   "source": [
    "print(classification_report(y_test,predictions))"
   ]
  },
  {
   "cell_type": "code",
   "execution_count": 30,
   "id": "6327fb0e",
   "metadata": {},
   "outputs": [
    {
     "data": {
      "text/plain": [
       "<sklearn.metrics._plot.confusion_matrix.ConfusionMatrixDisplay at 0x24051a77be0>"
      ]
     },
     "execution_count": 30,
     "metadata": {},
     "output_type": "execute_result"
    },
    {
     "data": {
      "image/png": "[encoded data removed]",
      "text/plain": [
       "<Figure size 432x288 with 2 Axes>"
      ]
     },
     "metadata": {
      "needs_background": "light"
     },
     "output_type": "display_data"
    }
   ],
   "source": [
    "from sklearn.metrics import ConfusionMatrixDisplay\n",
    "\n",
    "ConfusionMatrixDisplay.from_predictions(y_test, predictions, normalize=None)"
   ]
  },
  {
   "cell_type": "code",
   "execution_count": null,
   "id": "137804d4",
   "metadata": {},
   "outputs": [],
   "source": []
  },
  {
   "cell_type": "code",
   "execution_count": null,
   "id": "52abd014",
   "metadata": {},
   "outputs": [],
   "source": []
  }
 ],
 "metadata": {
  "kernelspec": {
   "display_name": "Python 3 (ipykernel)",
   "language": "python",
   "name": "python3"
  },
  "language_info": {
   "codemirror_mode": {
    "name": "ipython",
    "version": 3
   },
   "file_extension": ".py",
   "mimetype": "text/x-python",
   "name": "python",
   "nbconvert_exporter": "python",
   "pygments_lexer": "ipython3",
   "version": "3.9.7"
  }
 },
 "nbformat": 4,
 "nbformat_minor": 5
}
