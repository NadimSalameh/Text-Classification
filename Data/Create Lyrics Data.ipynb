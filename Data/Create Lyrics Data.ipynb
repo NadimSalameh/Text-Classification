{
 "cells": [
  {
   "cell_type": "code",
   "execution_count": 2,
   "id": "132a1cdd",
   "metadata": {},
   "outputs": [],
   "source": [
    "import pandas as pd\n",
    "import requests\n",
    "from bs4 import BeautifulSoup\n",
    "import numpy as np \n",
    "from sklearn.linear_model import LogisticRegression\n",
    "from sklearn.model_selection import train_test_split "
   ]
  },
  {
   "cell_type": "markdown",
   "id": "64dff389",
   "metadata": {},
   "source": [
    "* Copy url of eminem lyrics"
   ]
  },
  {
   "cell_type": "code",
   "execution_count": 3,
   "id": "c55e74a4",
   "metadata": {},
   "outputs": [],
   "source": [
    "url = 'https://www.lyrics.com/artist/Eminem/347307'"
   ]
  },
  {
   "cell_type": "code",
   "execution_count": 4,
   "id": "478c50ab",
   "metadata": {},
   "outputs": [],
   "source": [
    "open('The_Eminem_songs.txt','wb')\n",
    "response = requests.get(url)\n"
   ]
  },
  {
   "cell_type": "code",
   "execution_count": 5,
   "id": "2844a1ac",
   "metadata": {},
   "outputs": [],
   "source": [
    "import re"
   ]
  },
  {
   "cell_type": "markdown",
   "id": "20ee3457",
   "metadata": {},
   "source": [
    "* Import all the lyrics links "
   ]
  },
  {
   "cell_type": "code",
   "execution_count": 6,
   "id": "90bcae1e",
   "metadata": {},
   "outputs": [],
   "source": [
    "links_Eminem =re.findall(pattern='/lyric[^\"\"]+', string=response.text)"
   ]
  },
  {
   "cell_type": "markdown",
   "id": "f18535bf",
   "metadata": {},
   "source": [
    "* Take only 500 songs ."
   ]
  },
  {
   "cell_type": "code",
   "execution_count": 7,
   "id": "e7be72c2",
   "metadata": {},
   "outputs": [],
   "source": [
    "\n",
    "links_Eminem = links_Eminem[:500]\n",
    "#links_Eminem"
   ]
  },
  {
   "cell_type": "markdown",
   "id": "41808590",
   "metadata": {},
   "source": [
    "* Create *lyrics list* for lyrics text"
   ]
  },
  {
   "cell_type": "code",
   "execution_count": 44,
   "id": "eb375733",
   "metadata": {},
   "outputs": [],
   "source": [
    "lyrics =[]\n",
    "for counter, link in enumerate(links_Eminem):\n",
    "    \n",
    "    url = 'https://www.lyrics.com' + link\n",
    "    response = requests.get(url)\n",
    "    Eminem_text= response.text\n",
    "    soup_Eminem_text = BeautifulSoup(Eminem_text,\"html.parser\")\n",
    "   \n",
    "    lyrics.append([t.text for t in soup_Eminem_text.find_all(id=\"lyric-body-text\")])\n",
    "   \n",
    "    print(counter)"
   ]
  },
  {
   "cell_type": "code",
   "execution_count": 45,
   "id": "58d5188a",
   "metadata": {},
   "outputs": [],
   "source": [
    "lyrics"
   ]
  },
  {
   "cell_type": "markdown",
   "id": "658c2134",
   "metadata": {},
   "source": [
    "* Create a *DataFrame* using *lyrics list*"
   ]
  },
  {
   "cell_type": "code",
   "execution_count": null,
   "id": "7233ab29",
   "metadata": {},
   "outputs": [],
   "source": [
    "Eminem_Df= pd.DataFrame(lyrics,columns=['Lyrics'])"
   ]
  },
  {
   "cell_type": "code",
   "execution_count": 10,
   "id": "bfc04a40",
   "metadata": {},
   "outputs": [],
   "source": [
    "Eminem_Df['Artist']='Eminem'"
   ]
  },
  {
   "cell_type": "code",
   "execution_count": 46,
   "id": "6b7bb6d7",
   "metadata": {},
   "outputs": [],
   "source": [
    "Eminem_Df"
   ]
  },
  {
   "cell_type": "markdown",
   "id": "bf7ea964",
   "metadata": {},
   "source": [
    "* Do the same steps for Rihanna songs"
   ]
  },
  {
   "cell_type": "code",
   "execution_count": 16,
   "id": "49f8fdb8",
   "metadata": {},
   "outputs": [],
   "source": [
    "url = 'https://www.lyrics.com/artist/Rihanna/704560'"
   ]
  },
  {
   "cell_type": "code",
   "execution_count": 17,
   "id": "881222f6",
   "metadata": {},
   "outputs": [],
   "source": [
    "open('Rihanna_songs.txt','wb')\n",
    "response1 = requests.get(url)\n"
   ]
  },
  {
   "cell_type": "code",
   "execution_count": 18,
   "id": "297f12da",
   "metadata": {},
   "outputs": [],
   "source": [
    "links_Rihanna =re.findall(pattern='/lyric[^\"\"]+', string=response1.text)"
   ]
  },
  {
   "cell_type": "code",
   "execution_count": 47,
   "id": "f8e4dd41",
   "metadata": {},
   "outputs": [],
   "source": [
    "links_Rihanna = links_Rihanna[:500]\n",
    "#links_Rihanna"
   ]
  },
  {
   "cell_type": "code",
   "execution_count": 48,
   "id": "9fb14b50",
   "metadata": {},
   "outputs": [],
   "source": [
    "lyrics1 =[]\n",
    "for counter, link1 in enumerate(links_Rihanna):\n",
    "    #lyrics =[]\n",
    "    url = 'https://www.lyrics.com' + link1\n",
    "    response1 = requests.get(url)\n",
    "    Rihanna_text= response1.text\n",
    "    soup_Rihanna_text = BeautifulSoup(Rihanna_text,\"html.parser\")\n",
    "    \n",
    "    lyrics1.append([t.text for t in soup_Rihanna_text.find_all(id=\"lyric-body-text\")])\n",
    "    \n",
    "    print(counter)"
   ]
  },
  {
   "cell_type": "code",
   "execution_count": 49,
   "id": "5c7bbb69",
   "metadata": {},
   "outputs": [],
   "source": [
    "lyrics1"
   ]
  },
  {
   "cell_type": "code",
   "execution_count": 22,
   "id": "67161c85",
   "metadata": {},
   "outputs": [],
   "source": [
    "Rihanna_Df= pd.DataFrame(lyrics1,columns=['Lyrics'])"
   ]
  },
  {
   "cell_type": "code",
   "execution_count": 23,
   "id": "54742bdd",
   "metadata": {},
   "outputs": [],
   "source": [
    "Rihanna_Df['Artist']='Rihanna'"
   ]
  },
  {
   "cell_type": "code",
   "execution_count": 51,
   "id": "a1653559",
   "metadata": {},
   "outputs": [],
   "source": [
    "Rihanna_Df"
   ]
  },
  {
   "cell_type": "markdown",
   "id": "da7ce82b",
   "metadata": {},
   "source": [
    "* concatenate *Eminem* and *Rihanna* Datafarames "
   ]
  },
  {
   "cell_type": "code",
   "execution_count": 28,
   "id": "3f0a5595",
   "metadata": {},
   "outputs": [],
   "source": [
    "df= pd.concat([Eminem_Df,Rihanna_Df])"
   ]
  },
  {
   "cell_type": "code",
   "execution_count": 36,
   "id": "3e58bd55",
   "metadata": {},
   "outputs": [
    {
     "data": {
      "text/html": [
       "<div>\n",
       "<style scoped>\n",
       "    .dataframe tbody tr th:only-of-type {\n",
       "        vertical-align: middle;\n",
       "    }\n",
       "\n",
       "    .dataframe tbody tr th {\n",
       "        vertical-align: top;\n",
       "    }\n",
       "\n",
       "    .dataframe thead th {\n",
       "        text-align: right;\n",
       "    }\n",
       "</style>\n",
       "<table border=\"1\" class=\"dataframe\">\n",
       "  <thead>\n",
       "    <tr style=\"text-align: right;\">\n",
       "      <th></th>\n",
       "      <th>Lyrics</th>\n",
       "      <th>Artist</th>\n",
       "    </tr>\n",
       "  </thead>\n",
       "  <tbody>\n",
       "    <tr>\n",
       "      <th>0</th>\n",
       "      <td>Son  you know why you the greatest alive   Why...</td>\n",
       "      <td>Eminem</td>\n",
       "    </tr>\n",
       "    <tr>\n",
       "      <th>1</th>\n",
       "      <td>Nigga  I wear fur coats in the summer  nigga  ...</td>\n",
       "      <td>Eminem</td>\n",
       "    </tr>\n",
       "    <tr>\n",
       "      <th>2</th>\n",
       "      <td>Yeah  I was born a misfit  grew up ten miles f...</td>\n",
       "      <td>Eminem</td>\n",
       "    </tr>\n",
       "    <tr>\n",
       "      <th>3</th>\n",
       "      <td>Yeah huh  (hip hop hip hop hip hop)  Turn the ...</td>\n",
       "      <td>Eminem</td>\n",
       "    </tr>\n",
       "    <tr>\n",
       "      <th>4</th>\n",
       "      <td>You will not be able to stay home brotha  You ...</td>\n",
       "      <td>Eminem</td>\n",
       "    </tr>\n",
       "    <tr>\n",
       "      <th>...</th>\n",
       "      <td>...</td>\n",
       "      <td>...</td>\n",
       "    </tr>\n",
       "    <tr>\n",
       "      <th>495</th>\n",
       "      <td>Baby slow down  just here me out  There s some...</td>\n",
       "      <td>Rihanna</td>\n",
       "    </tr>\n",
       "    <tr>\n",
       "      <th>496</th>\n",
       "      <td>Oh  oh  oh  oh  oh oh Oh  oh  oh  oh yeah  Lis...</td>\n",
       "      <td>Rihanna</td>\n",
       "    </tr>\n",
       "    <tr>\n",
       "      <th>497</th>\n",
       "      <td>Boy let me  let me Why don t you let me  let m...</td>\n",
       "      <td>Rihanna</td>\n",
       "    </tr>\n",
       "    <tr>\n",
       "      <th>498</th>\n",
       "      <td>The galdem rush to feel the ill touch Galdem b...</td>\n",
       "      <td>Rihanna</td>\n",
       "    </tr>\n",
       "    <tr>\n",
       "      <th>499</th>\n",
       "      <td>Gotta keep it on the down low I ll never let m...</td>\n",
       "      <td>Rihanna</td>\n",
       "    </tr>\n",
       "  </tbody>\n",
       "</table>\n",
       "<p>1000 rows × 2 columns</p>\n",
       "</div>"
      ],
      "text/plain": [
       "                                                Lyrics   Artist\n",
       "0    Son  you know why you the greatest alive   Why...   Eminem\n",
       "1    Nigga  I wear fur coats in the summer  nigga  ...   Eminem\n",
       "2    Yeah  I was born a misfit  grew up ten miles f...   Eminem\n",
       "3    Yeah huh  (hip hop hip hop hip hop)  Turn the ...   Eminem\n",
       "4    You will not be able to stay home brotha  You ...   Eminem\n",
       "..                                                 ...      ...\n",
       "495  Baby slow down  just here me out  There s some...  Rihanna\n",
       "496  Oh  oh  oh  oh  oh oh Oh  oh  oh  oh yeah  Lis...  Rihanna\n",
       "497  Boy let me  let me Why don t you let me  let m...  Rihanna\n",
       "498  The galdem rush to feel the ill touch Galdem b...  Rihanna\n",
       "499  Gotta keep it on the down low I ll never let m...  Rihanna\n",
       "\n",
       "[1000 rows x 2 columns]"
      ]
     },
     "execution_count": 36,
     "metadata": {},
     "output_type": "execute_result"
    }
   ],
   "source": [
    "df"
   ]
  },
  {
   "cell_type": "markdown",
   "id": "185ee848",
   "metadata": {},
   "source": [
    "* Save Dataframe into a csv file"
   ]
  },
  {
   "cell_type": "code",
   "execution_count": 35,
   "id": "284b82d8",
   "metadata": {},
   "outputs": [],
   "source": [
    "df.to_csv('Data_Project4_Lyrics')"
   ]
  },
  {
   "cell_type": "code",
   "execution_count": null,
   "id": "fb1f3ef7",
   "metadata": {},
   "outputs": [],
   "source": []
  },
  {
   "cell_type": "code",
   "execution_count": null,
   "id": "91cf0a14",
   "metadata": {},
   "outputs": [],
   "source": []
  }
 ],
 "metadata": {
  "kernelspec": {
   "display_name": "Python 3 (ipykernel)",
   "language": "python",
   "name": "python3"
  },
  "language_info": {
   "codemirror_mode": {
    "name": "ipython",
    "version": 3
   },
   "file_extension": ".py",
   "mimetype": "text/x-python",
   "name": "python",
   "nbconvert_exporter": "python",
   "pygments_lexer": "ipython3",
   "version": "3.9.7"
  }
 },
 "nbformat": 4,
 "nbformat_minor": 5
}
